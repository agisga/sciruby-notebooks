{
 "cells": [
  {
   "cell_type": "markdown",
   "metadata": {},
   "source": [
    "# Logistic regression with categorical data\n",
    "\n",
    "We aim to fit a logistic regression model to the [shelter animal data](https://www.kaggle.com/c/shelter-animal-outcomes) from [kaggle](https://www.kaggle.com/competitions) using the Ruby gems `daru` and `statsample-glm`."
   ]
  },
  {
   "cell_type": "code",
   "execution_count": 1,
   "metadata": {
    "collapsed": false
   },
   "outputs": [
    {
     "data": {
      "application/javascript": [
       "if(window['d3'] === undefined ||\n",
       "   window['Nyaplot'] === undefined){\n",
       "    var path = {\"d3\":\"http://d3js.org/d3.v3.min\",\"downloadable\":\"http://cdn.rawgit.com/domitry/d3-downloadable/master/d3-downloadable\"};\n",
       "\n",
       "\n",
       "\n",
       "    var shim = {\"d3\":{\"exports\":\"d3\"},\"downloadable\":{\"exports\":\"downloadable\"}};\n",
       "\n",
       "    require.config({paths: path, shim:shim});\n",
       "\n",
       "\n",
       "require(['d3'], function(d3){window['d3']=d3;console.log('finished loading d3');require(['downloadable'], function(downloadable){window['downloadable']=downloadable;console.log('finished loading downloadable');\n",
       "\n",
       "\tvar script = d3.select(\"head\")\n",
       "\t    .append(\"script\")\n",
       "\t    .attr(\"src\", \"http://cdn.rawgit.com/domitry/Nyaplotjs/master/release/nyaplot.js\")\n",
       "\t    .attr(\"async\", true);\n",
       "\n",
       "\tscript[0][0].onload = script[0][0].onreadystatechange = function(){\n",
       "\n",
       "\n",
       "\t    var event = document.createEvent(\"HTMLEvents\");\n",
       "\t    event.initEvent(\"load_nyaplot\",false,false);\n",
       "\t    window.dispatchEvent(event);\n",
       "\t    console.log('Finished loading Nyaplotjs');\n",
       "\n",
       "\t};\n",
       "\n",
       "\n",
       "});});\n",
       "}\n"
      ],
      "text/plain": [
       "\"if(window['d3'] === undefined ||\\n   window['Nyaplot'] === undefined){\\n    var path = {\\\"d3\\\":\\\"http://d3js.org/d3.v3.min\\\",\\\"downloadable\\\":\\\"http://cdn.rawgit.com/domitry/d3-downloadable/master/d3-downloadable\\\"};\\n\\n\\n\\n    var shim = {\\\"d3\\\":{\\\"exports\\\":\\\"d3\\\"},\\\"downloadable\\\":{\\\"exports\\\":\\\"downloadable\\\"}};\\n\\n    require.config({paths: path, shim:shim});\\n\\n\\nrequire(['d3'], function(d3){window['d3']=d3;console.log('finished loading d3');require(['downloadable'], function(downloadable){window['downloadable']=downloadable;console.log('finished loading downloadable');\\n\\n\\tvar script = d3.select(\\\"head\\\")\\n\\t    .append(\\\"script\\\")\\n\\t    .attr(\\\"src\\\", \\\"http://cdn.rawgit.com/domitry/Nyaplotjs/master/release/nyaplot.js\\\")\\n\\t    .attr(\\\"async\\\", true);\\n\\n\\tscript[0][0].onload = script[0][0].onreadystatechange = function(){\\n\\n\\n\\t    var event = document.createEvent(\\\"HTMLEvents\\\");\\n\\t    event.initEvent(\\\"load_nyaplot\\\",false,false);\\n\\t    window.dispatchEvent(event);\\n\\t    console.log('Finished loading Nyaplotjs');\\n\\n\\t};\\n\\n\\n});});\\n}\\n\""
      ]
     },
     "metadata": {},
     "output_type": "display_data"
    },
    {
     "data": {
      "text/html": [
       "<table><tr><th colspan=\"11\">Daru::DataFrame:46971910541380  rows: 3  cols: 10<tr><th></th><th>AgeuponOutcome</th><th>AnimalID</th><th>AnimalType</th><th>Breed</th><th>Color</th><th>DateTime</th><th>Name</th><th>OutcomeSubtype</th><th>OutcomeType</th><th>SexuponOutcome</th></tr><tr><td>0</td><td>1 year</td><td>A671945</td><td>Dog</td><td>Shetland Sheepdog Mix</td><td>Brown/White</td><td>2014-02-12 18:22:00</td><td>Hambone</td><td></td><td>Return_to_owner</td><td>Neutered Male</td></tr><tr><td>1</td><td>1 year</td><td>A656520</td><td>Cat</td><td>Domestic Shorthair Mix</td><td>Cream Tabby</td><td>2013-10-13 12:44:00</td><td>Emily</td><td>Suffering</td><td>Euthanasia</td><td>Spayed Female</td></tr><tr><td>2</td><td>2 years</td><td>A686464</td><td>Dog</td><td>Pit Bull Mix</td><td>Blue/White</td><td>2015-01-31 12:28:00</td><td>Pearce</td><td>Foster</td><td>Adoption</td><td>Neutered Male</td></tr></table>"
      ],
      "text/plain": [
       "\n",
       "#<Daru::DataFrame:46971910541380 @name = dee8b312-2f96-4014-bbd6-e1cf8e51e5fe @size = 3>\n",
       "           AgeuponOut   AnimalID AnimalType      Breed      Color   DateTime       Name OutcomeSub OutcomeTyp SexuponOut \n",
       "         0     1 year    A671945        Dog Shetland S Brown/Whit 2014-02-12    Hambone        nil Return_to_ Neutered M \n",
       "         1     1 year    A656520        Cat Domestic S Cream Tabb 2013-10-13      Emily  Suffering Euthanasia Spayed Fem \n",
       "         2    2 years    A686464        Dog Pit Bull M Blue/White 2015-01-31     Pearce     Foster   Adoption Neutered M \n"
      ]
     },
     "execution_count": 1,
     "metadata": {},
     "output_type": "execute_result"
    }
   ],
   "source": [
    "require 'daru'\n",
    "shelter_data = Daru::DataFrame.from_csv 'train.csv'\n",
    "shelter_data.head(3)"
   ]
  },
  {
   "cell_type": "markdown",
   "metadata": {},
   "source": [
    "The first thing we notice is that none of the variables are in numeric form, but `statsample-glm` cannot deal with non-numeric data. __This should change after this year's GSoC__, but for now we have to do a lot of data transformation by hand.\n",
    "\n",
    "## Data preprocessing\n",
    "\n",
    "For simplicity, and since this data analysis is just for demonstration purposes, we will keep only the variables `AgeuponOutcome`, `AnimalType`, and `SexuponOutcome` as the predictors in the model.\n",
    "\n",
    "The response variable will be a 0-1-valued indicator vector of whether the animal got adopted. Alternatively, we can use as the response variable a 0-1-valued indicator for whether the animal got euthanized, or an indicator for whether it got reunited with its previous owner, or died of natural causes, or transferred. That is, we may fit five different one-vs-all logistic regression models. However, we cannot fit a unified multinomial model, because that is not supported by `statsample-glm`.\n",
    "\n",
    "We remove the variables that we are not going to use from the dataset."
   ]
  },
  {
   "cell_type": "code",
   "execution_count": 2,
   "metadata": {
    "collapsed": false
   },
   "outputs": [
    {
     "data": {
      "text/html": [
       "<table><tr><th colspan=\"5\">Daru::DataFrame:46971910362420  rows: 3  cols: 4<tr><th></th><th>AgeuponOutcome</th><th>AnimalType</th><th>OutcomeType</th><th>SexuponOutcome</th></tr><tr><td>0</td><td>1 year</td><td>Dog</td><td>Return_to_owner</td><td>Neutered Male</td></tr><tr><td>1</td><td>1 year</td><td>Cat</td><td>Euthanasia</td><td>Spayed Female</td></tr><tr><td>2</td><td>2 years</td><td>Dog</td><td>Adoption</td><td>Neutered Male</td></tr></table>"
      ],
      "text/plain": [
       "\n",
       "#<Daru::DataFrame:46971910362420 @name = dee8b312-2f96-4014-bbd6-e1cf8e51e5fe @size = 3>\n",
       "           AgeuponOut AnimalType OutcomeTyp SexuponOut \n",
       "         0     1 year        Dog Return_to_ Neutered M \n",
       "         1     1 year        Cat Euthanasia Spayed Fem \n",
       "         2    2 years        Dog   Adoption Neutered M \n"
      ]
     },
     "execution_count": 2,
     "metadata": {},
     "output_type": "execute_result"
    }
   ],
   "source": [
    "shelter_data.delete_vector(\"AnimalID\")\n",
    "shelter_data.delete_vector(\"DateTime\")\n",
    "shelter_data.delete_vector(\"Name\")\n",
    "shelter_data.delete_vector(\"OutcomeSubtype\")\n",
    "shelter_data.delete_vector(\"Breed\")\n",
    "shelter_data.delete_vector(\"Color\")\n",
    "# remaining vectors:\n",
    "shelter_data.head(3)"
   ]
  },
  {
   "cell_type": "markdown",
   "metadata": {},
   "source": [
    "When we check the values that the remaining variables attain, we see that there are missing values denoted either as `nil` or as `\"Unknown\"`."
   ]
  },
  {
   "cell_type": "code",
   "execution_count": 3,
   "metadata": {
    "collapsed": false
   },
   "outputs": [
    {
     "name": "stdout",
     "output_type": "stream",
     "text": [
      "AgeuponOutcome levels: 1 year,2 years,3 weeks,1 month,5 months,4 years,3 months,2 weeks,2 months,10 months,6 months,5 years,7 years,3 years,4 months,12 years,9 years,6 years,1 weeks,11 years,4 weeks,7 months,8 years,11 months,4 days,9 months,8 months,15 years,10 years,1 week,0 years,14 years,3 days,6 days,5 days,5 weeks,2 days,16 years,1 day,13 years,,17 years,18 years,19 years,20 years\n",
      "AnimalType levels: Dog,Cat\n",
      "OutcomeType levels: Return_to_owner,Euthanasia,Adoption,Transfer,Died\n",
      "SexuponOutcome levels: Neutered Male,Spayed Female,Intact Male,Intact Female,Unknown,\n",
      "------------------------\n",
      "Are there any nil values? true\n",
      "------------------------\n",
      "There are 26729 rows total, including those with missing data.\n"
     ]
    }
   ],
   "source": [
    "shelter_data.each { |vec| puts vec.name + \" levels: \" + vec.to_a.uniq.join(\",\") }\n",
    "puts \"------------------------\"\n",
    "puts \"Are there any nil values? #{shelter_data.has_missing_data?}\"\n",
    "puts \"------------------------\"\n",
    "puts \"There are #{shelter_data.shape[0]} rows total, including those with missing data.\""
   ]
  },
  {
   "cell_type": "markdown",
   "metadata": {},
   "source": [
    "We delete all rows that contain missing values. For some reason `DataFrame::filter_rows`, which in general would be perfect to pick rows without missing values, is really slow here. So, we do the following instead."
   ]
  },
  {
   "cell_type": "code",
   "execution_count": 4,
   "metadata": {
    "collapsed": false
   },
   "outputs": [
    {
     "name": "stdout",
     "output_type": "stream",
     "text": [
      "There are 25621 rows left\n",
      "Are there any nil values left? false\n"
     ]
    }
   ],
   "source": [
    "shelter_data[\"AgeuponOutcome\"].each_with_index do |entry, ind| \n",
    "  shelter_data.delete_row ind if entry.nil?\n",
    "end\n",
    "\n",
    "shelter_data[\"SexuponOutcome\"].each_with_index do |entry, ind| \n",
    "  shelter_data.delete_row ind if entry.nil? or entry == \"Unknown\"\n",
    "end\n",
    "\n",
    "puts \"There are #{shelter_data.shape[0]} rows left\"\n",
    "puts \"Are there any nil values left? #{shelter_data.has_missing_data?}\""
   ]
  },
  {
   "cell_type": "markdown",
   "metadata": {},
   "source": [
    "We convert `AgeuponOutcome` to a numeric variable measured in weeks."
   ]
  },
  {
   "cell_type": "code",
   "execution_count": 5,
   "metadata": {
    "collapsed": false
   },
   "outputs": [
    {
     "data": {
      "text/html": [
       "<table><tr><th colspan=\"5\">Daru::DataFrame:46971900152920  rows: 3  cols: 4<tr><th></th><th>AgeuponOutcome</th><th>AnimalType</th><th>OutcomeType</th><th>SexuponOutcome</th></tr><tr><td>0</td><td>52.0</td><td>Dog</td><td>Return_to_owner</td><td>Neutered Male</td></tr><tr><td>1</td><td>52.0</td><td>Cat</td><td>Euthanasia</td><td>Spayed Female</td></tr><tr><td>2</td><td>104.0</td><td>Dog</td><td>Adoption</td><td>Neutered Male</td></tr></table>"
      ],
      "text/plain": [
       "\n",
       "#<Daru::DataFrame:46971900152920 @name = dee8b312-2f96-4014-bbd6-e1cf8e51e5fe @size = 3>\n",
       "           AgeuponOut AnimalType OutcomeTyp SexuponOut \n",
       "         0       52.0        Dog Return_to_ Neutered M \n",
       "         1       52.0        Cat Euthanasia Spayed Fem \n",
       "         2      104.0        Dog   Adoption Neutered M \n"
      ]
     },
     "execution_count": 5,
     "metadata": {},
     "output_type": "execute_result"
    }
   ],
   "source": [
    "result = Array.new\n",
    "shelter_data[\"AgeuponOutcome\"].each_with_index do |age, ind|\n",
    "  num, unit = age.split\n",
    "  case unit\n",
    "  when \"year\", \"years\"\n",
    "    result.push(52.0 * num.to_f)\n",
    "  when \"month\", \"months\"\n",
    "    result.push(4.5 * num.to_f)\n",
    "  when \"week\", \"weeks\"\n",
    "    result.push(num.to_f)\n",
    "  when \"day\", \"days\"\n",
    "    result.push(num.to_f / 7.0)\n",
    "  else\n",
    "    raise \"Unknown AgeuponOutcome unit!\"\n",
    "  end\n",
    "end\n",
    "shelter_data[\"AgeuponOutcome\"] = result\n",
    "shelter_data.head(3)"
   ]
  },
  {
   "cell_type": "markdown",
   "metadata": {},
   "source": [
    "Then we transform `AnimalType` and `SexuponOutcome` into sets of 0-1-valued dummy vectors."
   ]
  },
  {
   "cell_type": "code",
   "execution_count": 6,
   "metadata": {
    "collapsed": false
   },
   "outputs": [
    {
     "data": {
      "text/html": [
       "<table><tr><th colspan=\"7\">Daru::DataFrame:46971910068940  rows: 3  cols: 6<tr><th></th><th>AgeuponOutcome</th><th>OutcomeType</th><th>Dog_AnimalType</th><th>Neutered Male_SexuponOutcome</th><th>Spayed Female_SexuponOutcome</th><th>Intact Male_SexuponOutcome</th></tr><tr><td>0</td><td>52.0</td><td>Return_to_owner</td><td>1.0</td><td>1.0</td><td>0.0</td><td>0.0</td></tr><tr><td>1</td><td>52.0</td><td>Euthanasia</td><td>0.0</td><td>0.0</td><td>1.0</td><td>0.0</td></tr><tr><td>2</td><td>104.0</td><td>Adoption</td><td>1.0</td><td>1.0</td><td>0.0</td><td>0.0</td></tr></table>"
      ],
      "text/plain": [
       "\n",
       "#<Daru::DataFrame:46971910068940 @name = dee8b312-2f96-4014-bbd6-e1cf8e51e5fe @size = 3>\n",
       "           AgeuponOut OutcomeTyp Dog_Animal Neutered M Spayed Fem Intact Mal \n",
       "         0       52.0 Return_to_        1.0        1.0        0.0        0.0 \n",
       "         1       52.0 Euthanasia        0.0        0.0        1.0        0.0 \n",
       "         2      104.0   Adoption        1.0        1.0        0.0        0.0 \n"
      ]
     },
     "execution_count": 6,
     "metadata": {},
     "output_type": "execute_result"
    }
   ],
   "source": [
    "module Daru\n",
    "  class DataFrame\n",
    "\n",
    "    def replace_with_dummy_vectors(vector_name)\n",
    "      vector = self[vector_name]\n",
    "      levels = vector.to_a.uniq\n",
    "      # drop the last level to avoid redundancy in regression\n",
    "      levels.pop\n",
    "\n",
    "      levels.each do |l|\n",
    "        new_name = \"#{l}_#{vector_name}\"\n",
    "        new_vector = Array.new\n",
    "        vector.each { |e| e==l ? new_vector.push(1.0) : new_vector.push(0.0) }\n",
    "        self[new_name] = new_vector \n",
    "      end\n",
    "    end\n",
    "\n",
    "  end\n",
    "end\n",
    "\n",
    "shelter_data.replace_with_dummy_vectors(\"AnimalType\")\n",
    "shelter_data.delete_vector(\"AnimalType\")\n",
    "shelter_data.replace_with_dummy_vectors(\"SexuponOutcome\")\n",
    "shelter_data.delete_vector(\"SexuponOutcome\")\n",
    "\n",
    "shelter_data.head(3)"
   ]
  },
  {
   "cell_type": "markdown",
   "metadata": {},
   "source": [
    "We create a 0-1-valued indicator for whether the animal got adopted."
   ]
  },
  {
   "cell_type": "code",
   "execution_count": 7,
   "metadata": {
    "collapsed": false
   },
   "outputs": [
    {
     "data": {
      "text/html": [
       "<table><tr><th colspan=\"7\">Daru::DataFrame:46971924412000  rows: 3  cols: 6<tr><th></th><th>AgeuponOutcome</th><th>Dog_AnimalType</th><th>Neutered Male_SexuponOutcome</th><th>Spayed Female_SexuponOutcome</th><th>Intact Male_SexuponOutcome</th><th>Adoption</th></tr><tr><td>0</td><td>52.0</td><td>1.0</td><td>1.0</td><td>0.0</td><td>0.0</td><td>0.0</td></tr><tr><td>1</td><td>52.0</td><td>0.0</td><td>0.0</td><td>1.0</td><td>0.0</td><td>0.0</td></tr><tr><td>2</td><td>104.0</td><td>1.0</td><td>1.0</td><td>0.0</td><td>0.0</td><td>1.0</td></tr></table>"
      ],
      "text/plain": [
       "\n",
       "#<Daru::DataFrame:46971924412000 @name = dee8b312-2f96-4014-bbd6-e1cf8e51e5fe @size = 3>\n",
       "           AgeuponOut Dog_Animal Neutered M Spayed Fem Intact Mal   Adoption \n",
       "         0       52.0        1.0        1.0        0.0        0.0        0.0 \n",
       "         1       52.0        0.0        0.0        1.0        0.0        0.0 \n",
       "         2      104.0        1.0        1.0        0.0        0.0        1.0 \n"
      ]
     },
     "execution_count": 7,
     "metadata": {},
     "output_type": "execute_result"
    }
   ],
   "source": [
    "result = Array.new\n",
    "shelter_data[\"OutcomeType\"].each do |entry|\n",
    "  entry == \"Adoption\" ? result.push(1.0) : result.push(0.0)\n",
    "end\n",
    "\n",
    "shelter_data[\"Adoption\"] = result\n",
    "shelter_data.delete_vector(\"OutcomeType\")\n",
    "shelter_data.head(3)"
   ]
  },
  {
   "cell_type": "markdown",
   "metadata": {},
   "source": [
    "## Model fit\n",
    "\n",
    "Now, having put data in appropriate form, we can fit the logistic regression model with `statsample-glm`.\n",
    "\n",
    "__Unfortunatelly, `statsample-glm` cannot deal with this data size.__ My computer runs out of memory (12GB) when I fit a logistic regression model on the full data. Thus, I take a small subset of 1000 rows."
   ]
  },
  {
   "cell_type": "code",
   "execution_count": 8,
   "metadata": {
    "collapsed": false
   },
   "outputs": [
    {
     "data": {
      "text/html": [
       "<table><tr><th colspan=\"7\">Daru::DataFrame:46971911517720  rows: 3  cols: 6<tr><th></th><th>AgeuponOutcome</th><th>Dog_AnimalType</th><th>Neutered Male_SexuponOutcome</th><th>Spayed Female_SexuponOutcome</th><th>Intact Male_SexuponOutcome</th><th>Adoption</th></tr><tr><td>1</td><td>52.0</td><td>0.0</td><td>0.0</td><td>1.0</td><td>0.0</td><td>0.0</td></tr><tr><td>2</td><td>104.0</td><td>1.0</td><td>1.0</td><td>0.0</td><td>0.0</td><td>1.0</td></tr><tr><td>3</td><td>3.0</td><td>0.0</td><td>0.0</td><td>0.0</td><td>1.0</td><td>0.0</td></tr></table>"
      ],
      "text/plain": [
       "\n",
       "#<Daru::DataFrame:46971911517720 @name = dee8b312-2f96-4014-bbd6-e1cf8e51e5fe @size = 3>\n",
       "           AgeuponOut Dog_Animal Neutered M Spayed Fem Intact Mal   Adoption \n",
       "         1       52.0        0.0        0.0        1.0        0.0        0.0 \n",
       "         2      104.0        1.0        1.0        0.0        0.0        1.0 \n",
       "         3        3.0        0.0        0.0        0.0        1.0        0.0 \n"
      ]
     },
     "execution_count": 8,
     "metadata": {},
     "output_type": "execute_result"
    }
   ],
   "source": [
    "x = shelter_data.row[1..1000]\n",
    "x.head(3)"
   ]
  },
  {
   "cell_type": "code",
   "execution_count": 9,
   "metadata": {
    "collapsed": false
   },
   "outputs": [
    {
     "data": {
      "text/plain": [
       "{:AgeuponOutcome=>-0.006082852830214141, :Dog_AnimalType=>-0.7771170056503076, :\"Neutered Male_SexuponOutcome\"=>1.3284196185041677, :\"Spayed Female_SexuponOutcome\"=>1.7102012793438772, :\"Intact Male_SexuponOutcome\"=>-2.7451150407291425}"
      ]
     },
     "execution_count": 9,
     "metadata": {},
     "output_type": "execute_result"
    }
   ],
   "source": [
    "require 'statsample-glm'\n",
    "\n",
    "glm_adoption = Statsample::GLM.compute(x, \"Adoption\", :logistic)\n",
    "glm_adoption.coefficients :hash"
   ]
  },
  {
   "cell_type": "markdown",
   "metadata": {},
   "source": [
    "## Possible next steps\n",
    "\n",
    "1. Interpret the logistic regression coefficients.\n",
    "2. Fit logistic regression models with euthanasia, death, etc. as response variable.\n",
    "3. Predict adoption, euthanasia, death, etc. on test data.\n",
    "4. Submit prediction results to kaggle, and fail against random forrest models."
   ]
  }
 ],
 "metadata": {
  "kernelspec": {
   "display_name": "Ruby 2.2.2",
   "language": "ruby",
   "name": "ruby"
  },
  "language_info": {
   "file_extension": "rb",
   "mimetype": "application/x-ruby",
   "name": "ruby",
   "version": "2.2.2"
  }
 },
 "nbformat": 4,
 "nbformat_minor": 0
}
