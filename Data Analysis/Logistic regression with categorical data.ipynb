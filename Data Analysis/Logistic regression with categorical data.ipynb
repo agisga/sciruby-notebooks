{
 "cells": [
  {
   "cell_type": "markdown",
   "metadata": {},
   "source": [
    "# Logistic regression with categorical data\n",
    "\n",
    "We aim to fit a logistic regression model to the [shelter animal data](https://www.kaggle.com/c/shelter-animal-outcomes) from [kaggle](https://www.kaggle.com/competitions) using the Ruby gems `daru` and `statsample-glm`."
   ]
  },
  {
   "cell_type": "code",
   "execution_count": 15,
   "metadata": {
    "collapsed": false
   },
   "outputs": [
    {
     "data": {
      "text/html": [
       "<table><tr><th colspan=\"11\">Daru::DataFrame:47280018323020  rows: 3  cols: 10<tr><th></th><th>AnimalID</th><th>Name</th><th>DateTime</th><th>OutcomeType</th><th>OutcomeSubtype</th><th>AnimalType</th><th>SexuponOutcome</th><th>AgeuponOutcome</th><th>Breed</th><th>Color</th></tr><tr><td>0</td><td>A671945</td><td>Hambone</td><td>2014-02-12 18:22:00</td><td>Return_to_owner</td><td></td><td>Dog</td><td>Neutered Male</td><td>1 year</td><td>Shetland Sheepdog Mix</td><td>Brown/White</td></tr><tr><td>1</td><td>A656520</td><td>Emily</td><td>2013-10-13 12:44:00</td><td>Euthanasia</td><td>Suffering</td><td>Cat</td><td>Spayed Female</td><td>1 year</td><td>Domestic Shorthair Mix</td><td>Cream Tabby</td></tr><tr><td>2</td><td>A686464</td><td>Pearce</td><td>2015-01-31 12:28:00</td><td>Adoption</td><td>Foster</td><td>Dog</td><td>Neutered Male</td><td>2 years</td><td>Pit Bull Mix</td><td>Blue/White</td></tr></table>"
      ],
      "text/plain": [
       "\n",
       "#<Daru::DataFrame:47280018323020 @name = 38705f5d-d205-48c6-a341-0b53496f1532 @size = 3>\n",
       "             AnimalID       Name   DateTime OutcomeTyp OutcomeSub AnimalType SexuponOut AgeuponOut      Breed      Color \n",
       "         0    A671945    Hambone 2014-02-12 Return_to_        nil        Dog Neutered M     1 year Shetland S Brown/Whit \n",
       "         1    A656520      Emily 2013-10-13 Euthanasia  Suffering        Cat Spayed Fem     1 year Domestic S Cream Tabb \n",
       "         2    A686464     Pearce 2015-01-31   Adoption     Foster        Dog Neutered M    2 years Pit Bull M Blue/White \n"
      ]
     },
     "execution_count": 15,
     "metadata": {},
     "output_type": "execute_result"
    }
   ],
   "source": [
    "require 'daru'\n",
    "shelter_data = Daru::DataFrame.from_csv 'data/animal_shelter_train.csv'\n",
    "shelter_data.head(3)"
   ]
  },
  {
   "cell_type": "markdown",
   "metadata": {},
   "source": [
    "The first thing we notice is that none of the variables are in numeric form, but `statsample-glm` cannot deal with non-numeric data. __This should change after this year's GSoC__, but for now we have to do a lot of data transformation by hand."
   ]
  },
  {
   "cell_type": "markdown",
   "metadata": {},
   "source": [
    "## What is the model, what are we predicting, and what are the predictors?\n",
    "\n",
    "We want to predict the outcome (variable `OutcomeType`) for each animal. There are five possible outcomes:"
   ]
  },
  {
   "cell_type": "code",
   "execution_count": 16,
   "metadata": {
    "collapsed": false
   },
   "outputs": [
    {
     "data": {
      "text/plain": [
       "[\"Return_to_owner\", \"Euthanasia\", \"Adoption\", \"Transfer\", \"Died\"]"
      ]
     },
     "execution_count": 16,
     "metadata": {},
     "output_type": "execute_result"
    }
   ],
   "source": [
    "shelter_data[\"OutcomeType\"].to_a.uniq"
   ]
  },
  {
   "cell_type": "markdown",
   "metadata": {},
   "source": [
    "Because multinomial logistic regression is not supported by `statsample-glm`, we fit five different one-vs-all logistic regression models instead.\n",
    "That is, one model has a 0-1-valued indicator vector of whether the animal got adopted as the response. The next model uses as the response variable a 0-1-valued indicator for whether the animal got euthanized. And likewise, for the remaining three models, the response variables signify whether the animal got reunited with its previous owner, or died of natural causes, or transferred.\n",
    "\n",
    "For simplicity, and since this data analysis is just for demonstration purposes, we keep only the variables `AgeuponOutcome`, `AnimalType`, and `SexuponOutcome` as the predictors in the model.\n",
    "\n",
    "At the end, given an animal's age, type (cat or dog) and sex (neutered male, spayed female, intact male, etc.), we will be able to assign it a \"score\" for each of the five outcomes, using each of the five models respectively. Then the outcome that gets the largest score assigned is our predicted outcome for that animal."
   ]
  },
  {
   "cell_type": "markdown",
   "metadata": {},
   "source": [
    "## Data preprocessing\n",
    "\n",
    "First, we remove the variables that we are not going to use from the dataset (__after this year's GSoC, it will become unnecessary to remove any variables, because we will be able to specify what variables to use in the regression model with an R-like formula language__)."
   ]
  },
  {
   "cell_type": "code",
   "execution_count": 17,
   "metadata": {
    "collapsed": false
   },
   "outputs": [
    {
     "data": {
      "text/html": [
       "<table><tr><th colspan=\"5\">Daru::DataFrame:47280018564880  rows: 3  cols: 4<tr><th></th><th>OutcomeType</th><th>AnimalType</th><th>SexuponOutcome</th><th>AgeuponOutcome</th></tr><tr><td>0</td><td>Return_to_owner</td><td>Dog</td><td>Neutered Male</td><td>1 year</td></tr><tr><td>1</td><td>Euthanasia</td><td>Cat</td><td>Spayed Female</td><td>1 year</td></tr><tr><td>2</td><td>Adoption</td><td>Dog</td><td>Neutered Male</td><td>2 years</td></tr></table>"
      ],
      "text/plain": [
       "\n",
       "#<Daru::DataFrame:47280018564880 @name = 38705f5d-d205-48c6-a341-0b53496f1532 @size = 3>\n",
       "           OutcomeTyp AnimalType SexuponOut AgeuponOut \n",
       "         0 Return_to_        Dog Neutered M     1 year \n",
       "         1 Euthanasia        Cat Spayed Fem     1 year \n",
       "         2   Adoption        Dog Neutered M    2 years \n"
      ]
     },
     "execution_count": 17,
     "metadata": {},
     "output_type": "execute_result"
    }
   ],
   "source": [
    "shelter_data.delete_vectors *%W[AnimalID DateTime Name OutcomeSubtype Breed Color]\n",
    "# remaining vectors:\n",
    "shelter_data.head(3)"
   ]
  },
  {
   "cell_type": "markdown",
   "metadata": {},
   "source": [
    "When we check the values that the remaining variables attain, we see that there are missing values denoted either as `nil` or as `\"Unknown\"`."
   ]
  },
  {
   "cell_type": "code",
   "execution_count": 18,
   "metadata": {
    "collapsed": false
   },
   "outputs": [
    {
     "name": "stdout",
     "output_type": "stream",
     "text": [
      "OutcomeType levels: Return_to_owner,Euthanasia,Adoption,Transfer,Died\n",
      "AnimalType levels: Dog,Cat\n",
      "SexuponOutcome levels: Neutered Male,Spayed Female,Intact Male,Intact Female,Unknown,\n",
      "AgeuponOutcome levels: 1 year,2 years,3 weeks,1 month,5 months,4 years,3 months,2 weeks,2 months,10 months,6 months,5 years,7 years,3 years,4 months,12 years,9 years,6 years,1 weeks,11 years,4 weeks,7 months,8 years,11 months,4 days,9 months,8 months,15 years,10 years,1 week,0 years,14 years,3 days,6 days,5 days,5 weeks,2 days,16 years,1 day,13 years,,17 years,18 years,19 years,20 years\n",
      "------------------------\n",
      "Are there any nil values? true\n",
      "------------------------\n",
      "There are 26729 rows total, including those with missing data.\n"
     ]
    }
   ],
   "source": [
    "shelter_data.each { |vec| puts vec.name + \" levels: \" + vec.to_a.uniq.join(\",\") }\n",
    "puts \"------------------------\"\n",
    "puts \"Are there any nil values? #{shelter_data.has_missing_data?}\"\n",
    "puts \"------------------------\"\n",
    "puts \"There are #{shelter_data.shape[0]} rows total, including those with missing data.\""
   ]
  },
  {
   "cell_type": "markdown",
   "metadata": {},
   "source": [
    "We delete all rows that contain missing values."
   ]
  },
  {
   "cell_type": "code",
   "execution_count": 19,
   "metadata": {
    "collapsed": false
   },
   "outputs": [
    {
     "name": "stdout",
     "output_type": "stream",
     "text": [
      "There are 25621 rows left\n",
      "Are there any nil values left? false\n"
     ]
    }
   ],
   "source": [
    "shelter_data = shelter_data.filter_rows { |row| !(row.has_missing_data? or row['SexuponOutcome'] == \"Unknown\") }\n",
    "\n",
    "puts \"There are #{shelter_data.shape[0]} rows left\"\n",
    "puts \"Are there any nil values left? #{shelter_data.has_missing_data?}\""
   ]
  },
  {
   "cell_type": "markdown",
   "metadata": {},
   "source": [
    "We convert `AgeuponOutcome` to a numeric variable measured in weeks."
   ]
  },
  {
   "cell_type": "code",
   "execution_count": 20,
   "metadata": {
    "collapsed": false
   },
   "outputs": [
    {
     "data": {
      "text/html": [
       "<table><tr><th colspan=\"5\">Daru::DataFrame:47280019601480  rows: 3  cols: 4<tr><th></th><th>OutcomeType</th><th>AnimalType</th><th>SexuponOutcome</th><th>AgeuponOutcome</th></tr><tr><td>0</td><td>Return_to_owner</td><td>Dog</td><td>Neutered Male</td><td>52.0</td></tr><tr><td>1</td><td>Euthanasia</td><td>Cat</td><td>Spayed Female</td><td>52.0</td></tr><tr><td>2</td><td>Adoption</td><td>Dog</td><td>Neutered Male</td><td>104.0</td></tr></table>"
      ],
      "text/plain": [
       "\n",
       "#<Daru::DataFrame:47280019601480 @name = 51529a19-6b7d-4370-ac39-fb6fe04b68ff @size = 3>\n",
       "           OutcomeTyp AnimalType SexuponOut AgeuponOut \n",
       "         0 Return_to_        Dog Neutered M       52.0 \n",
       "         1 Euthanasia        Cat Spayed Fem       52.0 \n",
       "         2   Adoption        Dog Neutered M      104.0 \n"
      ]
     },
     "execution_count": 20,
     "metadata": {},
     "output_type": "execute_result"
    }
   ],
   "source": [
    "shelter_data['AgeuponOutcome'].map! do |age|\n",
    "  num, unit = age.split\n",
    "  num = num.to_f\n",
    "  case unit\n",
    "  when \"year\", \"years\"\n",
    "    52.0 * num\n",
    "  when \"month\", \"months\"\n",
    "    4.5 * num\n",
    "  when \"week\", \"weeks\"\n",
    "    num\n",
    "  when \"day\", \"days\"\n",
    "    num / 7.0\n",
    "  else\n",
    "    raise \"Unknown AgeuponOutcome unit!\"\n",
    "  end  \n",
    "end\n",
    "shelter_data.head(3)"
   ]
  },
  {
   "cell_type": "markdown",
   "metadata": {},
   "source": [
    "Then we transform `AnimalType`, `SexuponOutcome` and `OutcomeType` into sets of 0-1-valued dummy vectors.\n",
    "\n",
    "__Note: After GSoC 2016 this step will become unnecessary. Instead, we will be able to just do:__\n",
    "\n",
    "```\n",
    "shelter_data.to_category %W[AnimalType OutcomeType SexuponOutcome]\n",
    "```"
   ]
  },
  {
   "cell_type": "code",
   "execution_count": 21,
   "metadata": {
    "collapsed": false
   },
   "outputs": [
    {
     "data": {
      "text/html": [
       "<table><tr><th colspan=\"11\">Daru::DataFrame:47274794741760  rows: 3  cols: 10<tr><th></th><th>AgeuponOutcome</th><th>Dog_AnimalType</th><th>Neutered Male_SexuponOutcome</th><th>Spayed Female_SexuponOutcome</th><th>Intact Male_SexuponOutcome</th><th>Return_to_owner_OutcomeType</th><th>Euthanasia_OutcomeType</th><th>Adoption_OutcomeType</th><th>Transfer_OutcomeType</th><th>Died_OutcomeType</th></tr><tr><td>0</td><td>52.0</td><td>1.0</td><td>1.0</td><td>0.0</td><td>0.0</td><td>1.0</td><td>0.0</td><td>0.0</td><td>0.0</td><td>0.0</td></tr><tr><td>1</td><td>52.0</td><td>0.0</td><td>0.0</td><td>1.0</td><td>0.0</td><td>0.0</td><td>1.0</td><td>0.0</td><td>0.0</td><td>0.0</td></tr><tr><td>2</td><td>104.0</td><td>1.0</td><td>1.0</td><td>0.0</td><td>0.0</td><td>0.0</td><td>0.0</td><td>1.0</td><td>0.0</td><td>0.0</td></tr></table>"
      ],
      "text/plain": [
       "\n",
       "#<Daru::DataFrame:47274794741760 @name = 51529a19-6b7d-4370-ac39-fb6fe04b68ff @size = 3>\n",
       "           AgeuponOut Dog_Animal Neutered M Spayed Fem Intact Mal Return_to_ Euthanasia Adoption_O Transfer_O Died_Outco \n",
       "         0       52.0        1.0        1.0        0.0        0.0        1.0        0.0        0.0        0.0        0.0 \n",
       "         1       52.0        0.0        0.0        1.0        0.0        0.0        1.0        0.0        0.0        0.0 \n",
       "         2      104.0        1.0        1.0        0.0        0.0        0.0        0.0        1.0        0.0        0.0 \n"
      ]
     },
     "execution_count": 21,
     "metadata": {},
     "output_type": "execute_result"
    }
   ],
   "source": [
    "module Daru\n",
    "  class DataFrame\n",
    "\n",
    "    def replace_with_dummy_vectors(vector_name, drop_last=true)\n",
    "      vector = self[vector_name]\n",
    "      levels = vector.to_a.uniq\n",
    "      # drop the last level to avoid redundancy in regression\n",
    "      levels.pop if drop_last\n",
    "\n",
    "      levels.each do |l|\n",
    "        new_name = \"#{l}_#{vector_name}\"\n",
    "        new_vector = Array.new\n",
    "        vector.each { |e| e==l ? new_vector.push(1.0) : new_vector.push(0.0) }\n",
    "        self[new_name] = new_vector \n",
    "      end\n",
    "    end\n",
    "\n",
    "  end\n",
    "end\n",
    "\n",
    "shelter_data.replace_with_dummy_vectors(\"AnimalType\")\n",
    "shelter_data.replace_with_dummy_vectors(\"SexuponOutcome\")\n",
    "shelter_data.replace_with_dummy_vectors(\"OutcomeType\", false)\n",
    "shelter_data.delete_vectors(\"AnimalType\", \"SexuponOutcome\", \"OutcomeType\")\n",
    "\n",
    "shelter_data.head(3)"
   ]
  },
  {
   "cell_type": "markdown",
   "metadata": {},
   "source": [
    "We create a 0-1-valued indicator for whether the animal got adopted."
   ]
  },
  {
   "cell_type": "markdown",
   "metadata": {},
   "source": [
    "## Model fit\n",
    "\n",
    "Now, having put data in appropriate form, we can fit the logistic regression model with `statsample-glm`."
   ]
  },
  {
   "cell_type": "code",
   "execution_count": 8,
   "metadata": {
    "collapsed": false
   },
   "outputs": [
    {
     "data": {
      "text/plain": [
       "[25621, 6]"
      ]
     },
     "execution_count": 8,
     "metadata": {},
     "output_type": "execute_result"
    }
   ],
   "source": [
    "x = shelter_data.clone\n",
    "x.delete_vectors *%W[Return_to_owner_OutcomeType Euthanasia_OutcomeType Transfer_OutcomeType Died_OutcomeType]\n",
    "x.shape"
   ]
  },
  {
   "cell_type": "markdown",
   "metadata": {},
   "source": [
    "__Note:__ As mentioned before, deleting vectors will become unnecessary after this year's GSoC."
   ]
  },
  {
   "cell_type": "code",
   "execution_count": 9,
   "metadata": {
    "collapsed": false
   },
   "outputs": [
    {
     "data": {
      "text/plain": [
       "{:AgeuponOutcome=>-0.004452060293208014, :Dog_AnimalType=>-0.4419095589782122, :\"Neutered Male_SexuponOutcome\"=>3.431548411851544, :\"Spayed Female_SexuponOutcome\"=>3.652769402043723, :\"Intact Male_SexuponOutcome\"=>-0.25835528345818276, :constant=>-2.418271221948218}"
      ]
     },
     "execution_count": 9,
     "metadata": {},
     "output_type": "execute_result"
    }
   ],
   "source": [
    "require 'statsample-glm'\n",
    "\n",
    "glm_adoption = Statsample::GLM.compute(x, \"Adoption_OutcomeType\", :logistic, constant: 1, method: :irls)\n",
    "glm_adoption.coefficients :hash"
   ]
  },
  {
   "cell_type": "markdown",
   "metadata": {},
   "source": [
    "__Unfortunatelly, `statsample-glm` is extremely slow (hours) and memory hungry (uses >10 GB RAM) with this data size.__ I will look into how it can be improved."
   ]
  },
  {
   "cell_type": "markdown",
   "metadata": {},
   "source": [
    "## Possible next steps\n",
    "\n",
    "1. Interpret the logistic regression coefficients.\n",
    "2. Fit logistic regression models with euthanasia, death, etc. as response variable.\n",
    "3. Predict adoption, euthanasia, death, etc. on test data.\n",
    "4. Submit prediction results to kaggle, and fail against random forrest models."
   ]
  }
 ],
 "metadata": {
  "kernelspec": {
   "display_name": "Ruby 2.2.2",
   "language": "ruby",
   "name": "ruby"
  },
  "language_info": {
   "file_extension": "rb",
   "mimetype": "application/x-ruby",
   "name": "ruby",
   "version": "2.2.2"
  }
 },
 "nbformat": 4,
 "nbformat_minor": 0
}
